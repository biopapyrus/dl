{
 "cells": [
  {
   "cell_type": "code",
   "execution_count": null,
   "metadata": {
    "tags": [
     "remove-cell"
    ]
   },
   "outputs": [],
   "source": [
    "import os\n",
    "import sys\n",
    "sys.path.append(os.path.abspath('..'))\n",
    "from config import *\n",
    "\n",
    "import random\n",
    "import numpy as np\n",
    "import torch\n",
    "random.seed(0)\n",
    "np.random.seed(0)\n",
    "torch.manual_seed(0)\n",
    "torch.backends.cudnn.benchmark = False\n",
    "torch.backends.cudnn.deterministic = True"
   ]
  },
  {
   "cell_type": "markdown",
   "metadata": {},
   "source": [
    "# 演習：レントゲン画像歯検出"
   ]
  },
  {
   "cell_type": "markdown",
   "metadata": {},
   "source": [
    "歯や歯茎の状態を確認するためにレントゲンを使用することは、歯科検査において欠かせません。もし、レントゲン画像から歯の領域を自動で検出し、その状態、たとえば虫歯の有無を判定できるようになれば、歯科医師の負担を軽減し、診断をより迅速かつ正確に行うことが可能です。このような自動化を実現するには、画像内の歯の領域を正確に分離するセグメンテーション技術が必要です。本節では、レントゲン画像を用いた歯のセグメンテーションの方法を学び、歯科検査を効率化する支援方法を考えていきます。"
   ]
  },
  {
   "cell_type": "markdown",
   "metadata": {},
   "source": [
    "## 演習準備"
   ]
  },
  {
   "cell_type": "markdown",
   "metadata": {},
   "source": [
    "### ライブラリ"
   ]
  },
  {
   "cell_type": "markdown",
   "metadata": {},
   "source": [
    "本節で必要なライブラリを読み込みます。os、random、NumPy、Pandas、Matplotlib、Pillow（PIL）は訓練過程の可視化や推論結果の表示に利用します。scikit-image（skimage）はマスクから輪郭線を計算する際に使用します。さらに、torch、torchvision、torchmetrics はインスタンスセグメンテーションモデルの訓練、検証、推論に利用します。"
   ]
  },
  {
   "cell_type": "code",
   "execution_count": null,
   "metadata": {},
   "outputs": [],
   "source": [
    "import os\n",
    "import random\n",
    "import numpy as np\n",
    "import pandas as pd\n",
    "import matplotlib.pyplot as plt\n",
    "import PIL\n",
    "\n",
    "import skimage\n",
    "\n",
    "import torch\n",
    "import torchvision\n",
    "import torchvision.transforms.v2\n",
    "import torchmetrics\n",
    "\n",
    "print(f'torch v{torch.__version__}; torchvision v{torchvision.__version__}')"
   ]
  },
  {
   "cell_type": "markdown",
   "metadata": {},
   "source": [
    "ライブラリの読み込み時に *ImportError* や *ModuleNotFoundError* が発生した場合は、該当するライブラリをインストールしてください。ライブラリのバージョンを揃える必要はありませんが、PyTorch（torch）および torchvision が上記のバージョンと異なる時、実行中に警告メッセージが現れたり、同じ結果にならなかったりする可能性があります。"
   ]
  },
  {
   "cell_type": "markdown",
   "metadata": {},
   "source": [
    "### データセット"
   ]
  },
  {
   "cell_type": "markdown",
   "metadata": {},
   "source": [
    "本章では、Kaggle にて CC0 ライセンスのもとで公開されている [Teeth Segmentation on dental X-ray images](https://www.kaggle.com/datasets/humansintheloop/teeth-segmentation-on-dental-x-ray-images) を使用します。このデータセットは、歯のレントゲン画像からなるデータセットであり、歯を領域をポリゴン囲んだアノテーションが含まれています。アノテーションはポリゴンの座標を記載した数値データと画像として保存されたマスクの両方が用意されています。マスク画像は RGB カラー画像で、画像内の色が各歯の番号に対応しています。例えば、13 番目の歯は色が (R, G, B) = (1, 1, 1)、12 番目の歯は (2, 2, 2) のように、32 番目の歯までそれぞれ異なる色で対応付けられています[^teethnumber]。歯の番号と色の対応関係は、`obj_class_to_machine_color.json` ファイルに保存されています。歯の番号を区別して取り扱う際は、この対応表を使用してデータを取得する必要があります。\n",
    "\n",
    "```{figure} ../_static/teethsegm_dataset.jpg\n",
    "---\n",
    "name: teethsegm_dataset_example\n",
    "---\n",
    "Teeth Segmentation on dental X-ray images データセットのサンプル画像とマスク画像。\n",
    "```\n",
    "\n",
    "オリジナルのデータセットはやや大きいため、本節では、オリジナルのデータセットから 80 枚の画像を抽出して、そのうち 60 枚を訓練データ、10 枚を検証データ、10 枚を検証データとして整理したものを利用します。Jupyter Notebook では、以下のコマンドを実行することで、データセットをダウンロードできます。\n",
    "\n",
    "```bash\n",
    "!wget https://dl.biopapyrus.jp/data/teethsegm.zip\n",
    "!unzip teethsegm.zip\n",
    "```\n",
    "\n",
    "[^teethnumber]: アメリカでは、歯の番号は右上から始まり、左上、左下、右下の順に通し番号が付けられます。大臼歯（親知らず）は 1、16、17、32 番にあたります。"
   ]
  },
  {
   "cell_type": "markdown",
   "metadata": {},
   "source": [
    "### 前処理"
   ]
  },
  {
   "cell_type": "markdown",
   "metadata": {},
   "source": [
    "本節では、歯の番号を区別せずにインスタンスセグメンテーションを行います。そのために、前述のデータセットをインスタンスセグメンテーションの学習に利用できる形式に変換する処理（`TeethDataset`）を定義します。\n",
    "\n",
    "Teeth Segmentation on dental X-ray images データセットに含まれるマスク画像は RGB 画像で、例えば画素値が (1, 1, 1) の部分が 13 番目の歯、(2, 2, 2) の部分が 12 番目の歯に対応しています。`TeethDataset` では、この RGB 画像を基に、まず画素値が (1, 1, 1) の部分を判定して 1 枚のバイナリマスクを作成し、次に画素値が (2, 2, 2) の部分について同様にバイナリマスクを作成します。この操作を繰り返し、32 本の歯に対応するマスクを生成します（`(mask == labels[:, None, None]).to(dtype=torch.uint8)`）。さらに、画像内に該当する歯が存在しない場合、その歯に対応するマスクの画素値はすべて 0 になります。このような無効なマスクを削除する処理（`masks[has_tooth]`）も実装しています。最後に、生成したマスクを PyTorch で扱える形式に変換する処理を行います。"
   ]
  },
  {
   "cell_type": "code",
   "execution_count": null,
   "metadata": {},
   "outputs": [],
   "source": [
    "class TeethDataset(torch.utils.data.Dataset):\n",
    "    def __init__(self, root):\n",
    "        self.root = root\n",
    "        self.images, self.masks = self.__load_datasets(self.root)\n",
    "        self.transforms = torchvision.transforms.v2.Compose([\n",
    "            torchvision.transforms.v2.ToDtype(torch.float, scale=True),\n",
    "            torchvision.transforms.v2.ToPureTensor()\n",
    "        ])\n",
    "    \n",
    "    def __getitem__(self, idx):\n",
    "        image = torchvision.io.read_image(self.images[idx])\n",
    "        mask = torchvision.io.read_image(self.masks[idx])\n",
    "\n",
    "        # create labels, masks, bboxes for training from the original mask\n",
    "        labels = torch.tensor([_ for _ in range(1, 33)])\n",
    "        masks = (mask == labels[:, None, None]).to(dtype=torch.uint8)\n",
    "        has_tooth = [_.sum() > 0 for _ in masks]\n",
    "        labels = labels[has_tooth]\n",
    "        masks = masks[has_tooth]\n",
    "        boxes = torchvision.ops.boxes.masks_to_boxes(masks)\n",
    "        \n",
    "        # convert teeth number to 1 (ignore the teeth number)\n",
    "        labels = torch.ones((len(labels), ), dtype=torch.int64)\n",
    "\n",
    "        # format image and annotation for training\n",
    "        image = torchvision.tv_tensors.Image(image)\n",
    "        target = {\n",
    "            'boxes': torchvision.tv_tensors.BoundingBoxes(boxes, format='XYXY', canvas_size=torchvision.transforms.v2.functional.get_size(image)),\n",
    "            'masks': torchvision.tv_tensors.Mask(masks),\n",
    "            'labels': labels,\n",
    "        }\n",
    "        image, target = self.transforms(image, target)\n",
    "        \n",
    "        return image, target\n",
    "\n",
    "    def __len__(self):\n",
    "        return len(self.images)\n",
    "        \n",
    "    def __load_datasets(self, root):\n",
    "        images = []\n",
    "        masks = []\n",
    "        for image_fpath in os.listdir(os.path.join(root, 'images')):\n",
    "            image_fpath = os.path.join(root, 'images', image_fpath)\n",
    "            if os.path.splitext(image_fpath)[1] == '.jpg':\n",
    "                image_fname = os.path.basename(image_fpath)\n",
    "                mask_fpath = os.path.join(root, 'masks', os.path.splitext(image_fname)[0] + '.png')\n",
    "                if os.path.exists(mask_fpath):\n",
    "                    images.append(image_fpath)\n",
    "                    masks.append(mask_fpath)\n",
    "        return images, masks\n",
    "\n"
   ]
  },
  {
   "cell_type": "markdown",
   "metadata": {},
   "source": [
    "通常、モデルの訓練では、データ拡張として画像の拡大縮小、平行移動、回転などを適用することが一般的です。しかし、歯のレントゲン画像の場合、過度なデータ拡張を行うと、本来の画像情報から逸脱し、モデルの学習に悪影響を及ぼす可能性があります。そのため、適切なデータ拡張手法を慎重に選択することが重要です。"
   ]
  },
  {
   "cell_type": "markdown",
   "metadata": {},
   "source": [
    "### 計算デバイス"
   ]
  },
  {
   "cell_type": "markdown",
   "metadata": {},
   "source": [
    "PyTorch が GPU を認識できる場合は GPU を利用し、認識できない場合は CPU を利用するように計算デバイスを設定します。"
   ]
  },
  {
   "cell_type": "code",
   "execution_count": null,
   "metadata": {},
   "outputs": [],
   "source": [
    "device = torch.device('cuda') if torch.cuda.is_available() else torch.device('cpu')"
   ]
  },
  {
   "cell_type": "markdown",
   "metadata": {},
   "source": [
    "## モデル構築"
   ]
  },
  {
   "cell_type": "markdown",
   "metadata": {},
   "source": [
    "Mask R-CNN は高性能なインスタンスセグメンテーションを行うアーキテクチャで、torchvision.models モジュールに含まれています。しかし、torchvision.models で提供されている Mask R-CNN は、COCO データセット向けに設計されており、車や人などの 90 種類の一般的なオブジェクトを対象としています。そのため、そのままでは歯のインスタンスセグメンテーションに適用することができません。\n",
    "\n",
    "歯のセグメンテーションに対応させるためには、Mask R-CNN の分類モジュールの出力層のユニット数を修正する必要があります。この修正はモデルを呼び出すたびに行う必要があり、手間がかかります。そこで、指定したクラス数に応じてアーキテクチャを生成し、必要に応じて修正を加えられるように、一連の処理を関数として定義します。なお、インスタンスセグメンテーションは物体検出と同様に背景を 1 つのクラスとして扱うため、出力層の数を修正する際には、検出対象のクラス数に 1 を加えた数にする必要があります。"
   ]
  },
  {
   "cell_type": "code",
   "execution_count": null,
   "metadata": {
    "tags": [
     "hide-output"
    ]
   },
   "outputs": [],
   "source": [
    "def maskrcnn(num_classes, weights=None):\n",
    "    num_classes = num_classes + 1\n",
    "\n",
    "    model = torchvision.models.detection.maskrcnn_resnet50_fpn(weights='DEFAULT')\n",
    "    \n",
    "    in_features = model.roi_heads.box_predictor.cls_score.in_features\n",
    "    model.roi_heads.box_predictor = torchvision.models.detection.faster_rcnn.FastRCNNPredictor(in_features, num_classes)\n",
    "    in_features_mask = model.roi_heads.mask_predictor.conv5_mask.in_channels\n",
    "    model.roi_heads.mask_predictor = torchvision.models.detection.mask_rcnn.MaskRCNNPredictor(in_features_mask, 256, num_classes)\n",
    "    \n",
    "    if weights is not None:\n",
    "        model.load_state_dict(torch.load(weights))\n",
    "    return model\n",
    "\n",
    "model = maskrcnn(num_classes=1)\n",
    "model.to(device)"
   ]
  },
  {
   "cell_type": "markdown",
   "metadata": {},
   "source": [
    "## モデル訓練"
   ]
  },
  {
   "cell_type": "markdown",
   "metadata": {},
   "source": [
    "モデルが学習データを効率的に学習できるように、学習アルゴリズム（`optimizer`）、学習率（`lr`）、および学習率を調整するスケジューラ（`lr_scheduler`）を設定します。なお、インスタンスセグメンテーションでは、すべてのピクセルに対して予測結果（分類結果）とラベルの誤差を計算する損失関数を定義する必要がありますが、この損失関数はすでにモデル内で定義されているため、ここで新たに定義する必要はありません。"
   ]
  },
  {
   "cell_type": "code",
   "execution_count": null,
   "metadata": {},
   "outputs": [],
   "source": [
    "optimizer = torch.optim.AdamW(model.parameters(), lr=1e-4, weight_decay=1e-4)\n",
    "lr_scheduler = torch.optim.lr_scheduler.StepLR(optimizer, step_size=3, gamma=0.1)"
   ]
  },
  {
   "cell_type": "markdown",
   "metadata": {},
   "source": [
    "次に、訓練サブセットおよび検証サブセットを読み込み、モデルに入力できる形式に整えます。"
   ]
  },
  {
   "cell_type": "code",
   "execution_count": null,
   "metadata": {
    "tags": [
     "hide-output"
    ]
   },
   "outputs": [],
   "source": [
    "train_loader = torch.utils.data.DataLoader(\n",
    "                    TeethDataset('teethsegm/train'),\n",
    "                    batch_size=4, shuffle=True, collate_fn=lambda x: tuple(zip(*x)))\n",
    "valid_loader = torch.utils.data.DataLoader(\n",
    "                    TeethDataset('teethsegm/valid'),\n",
    "                    batch_size=4, shuffle=False, collate_fn=lambda x: tuple(zip(*x)))"
   ]
  },
  {
   "cell_type": "markdown",
   "metadata": {},
   "source": [
    "準備が整ったら、訓練を開始します。訓練プロセスでは、訓練と検証を交互に繰り返します。訓練では、訓練データを使ってモデルのパラメータを更新し、その際の損失（誤差）を記録します。検証では、検証データを使ってモデルの予測性能（mAP や IoU）を計算し、その結果を記録します。"
   ]
  },
  {
   "cell_type": "code",
   "execution_count": null,
   "metadata": {
    "tags": [
     "hide-output"
    ]
   },
   "outputs": [],
   "source": [
    "num_epochs = 10\n",
    "metric_dict = []\n",
    "\n",
    "for epoch in range(num_epochs):\n",
    "    # training phase\n",
    "    model.train()\n",
    "    epoch_loss_dict = {}\n",
    "\n",
    "    for images, targets in train_loader:\n",
    "        images = [img.to(device) for img in images]\n",
    "        targets = [{k: v.to(device) for k, v in t.items()} for t in targets]\n",
    "        \n",
    "        batch_loss_dict = model(images, targets)\n",
    "        batch_tol_loss = 0\n",
    "        for loss_type, loss_val in batch_loss_dict.items():\n",
    "            batch_tol_loss += loss_val\n",
    "            if loss_type in epoch_loss_dict:\n",
    "                epoch_loss_dict[f'train_{loss_type}'] += loss_val.item()\n",
    "            else:\n",
    "                epoch_loss_dict[f'train_{loss_type}'] = loss_val.item()\n",
    "                \n",
    "        # update weights\n",
    "        optimizer.zero_grad()\n",
    "        batch_tol_loss.backward()\n",
    "        optimizer.step()\n",
    "    lr_scheduler.step()\n",
    "\n",
    "\n",
    "    # validation phase\n",
    "    model.eval()\n",
    "    metric = torchmetrics.detection.mean_ap.MeanAveragePrecision()\n",
    "    iou = 0\n",
    "    n_targets = 0\n",
    "    with torch.no_grad():\n",
    "        for images, targets in valid_loader:\n",
    "            images = [img.to(device) for img in images]\n",
    "            targets = [{k: v.to(device) for k, v in t.items()} for t in targets]\n",
    "            pred_targets = model(images)\n",
    "            metric.update(pred_targets, targets)\n",
    "\n",
    "            for i in range(len(targets)):\n",
    "                pred_mask = pred_targets[i]['masks'].squeeze(1).any(dim=0)\n",
    "                true_mask = targets[i]['masks'].any(dim=0)\n",
    "                iou += torchmetrics.functional.jaccard_index(pred_mask.unsqueeze(0), true_mask.unsqueeze(0), num_classes=1, task='binary')\n",
    "                n_targets += 1\n",
    "\n",
    "    # record training loss\n",
    "    epoch_loss_dict['train_total_loss'] = sum(epoch_loss_dict.values())\n",
    "    metric_dict.append({k: v / len(train_loader) for k, v in epoch_loss_dict.items()})\n",
    "    for k, v in metric.compute().items():\n",
    "        if k != 'classes':\n",
    "            metric_dict[-1][k] = v.item()\n",
    "    metric_dict[-1]['avg_iou'] = iou.item() / n_targets\n",
    "    metric_dict[-1]['epoch'] = epoch + 1\n",
    "\n",
    "    print(metric_dict[-1])"
   ]
  },
  {
   "cell_type": "markdown",
   "metadata": {},
   "source": [
    "訓練データに対する損失と検証データに対する予測性能（mAP）を可視化し、訓練過程を評価します。"
   ]
  },
  {
   "cell_type": "code",
   "execution_count": null,
   "metadata": {
    "tags": [
     "remove-input"
    ]
   },
   "outputs": [],
   "source": [
    "metric_dict = pd.DataFrame(metric_dict)\n",
    "\n",
    "fig, ax = plt.subplots(1, 2)\n",
    "ax[0].plot(metric_dict['epoch'], metric_dict['train_total_loss'], label='total')\n",
    "ax[0].plot(metric_dict['epoch'], metric_dict['train_loss_classifier'], label='classification')\n",
    "ax[0].plot(metric_dict['epoch'], metric_dict['train_loss_box_reg'], label='bbox')\n",
    "ax[0].plot(metric_dict['epoch'], metric_dict['train_loss_mask'], label='mask')\n",
    "ax[0].set_xlabel('epoch')\n",
    "ax[0].set_ylabel('loss')\n",
    "ax[0].set_title('Train')\n",
    "ax[0].legend()\n",
    "ax[1].plot(metric_dict['epoch'], metric_dict['map_50'], label='mAP(50%)')\n",
    "ax[1].plot(metric_dict['epoch'], metric_dict['avg_iou'], label='IoU')\n",
    "ax[1].set_ylim(0, 1)\n",
    "ax[1].set_xlabel('Epoch')\n",
    "ax[1].set_ylabel('metrics')\n",
    "ax[1].set_title('Validation')\n",
    "ax[1].legend()\n",
    "plt.tight_layout()\n",
    "fig.show()"
   ]
  },
  {
   "cell_type": "markdown",
   "metadata": {},
   "source": [
    "可視化の結果から、エポック数が増えるにつれて訓練データに対する損失が継続的に減少し、5 エポック目から収束し始める傾向がみられました。一方で、検証データに対する検証性能（mAP および IoU）は最初の数エポックですでに高い値に達しいることがわかりました。訓練ではこれで十分と考えらえるので次のステップに進みます。\n",
    "\n",
    "次に、この手順を他の深層ニューラルネットワークのアーキテクチャ（例えば U-Net など）に適用し、それぞれの検証性能を比較します。この比較により、データセットに最も適したアーキテクチャを選定します。ただし、本節はこの比較を行わずに、Mask R-CNN を最適なアーキテクチャとして扱い、次のステップに進みます。\n",
    "\n",
    "次のステップでは、訓練サブセットと検証サブセットを統合し、最適と判断したアーキテクチャを最初から訓練します。その準備として、まず訓練サブセットと検証サブセットを結合します。"
   ]
  },
  {
   "cell_type": "code",
   "execution_count": null,
   "metadata": {
    "tags": [
     "remove-cell"
    ]
   },
   "outputs": [],
   "source": [
    "!rm -rf teethsegm/trainvalid/images\n",
    "!rm -rf teethsegm/trainvalid/masks"
   ]
  },
  {
   "cell_type": "code",
   "execution_count": null,
   "metadata": {},
   "outputs": [],
   "source": [
    "!mkdir -p teethsegm/trainvalid/images\n",
    "!mkdir -p teethsegm/trainvalid/masks\n",
    "\n",
    "!cp teethsegm/train/images/* teethsegm/trainvalid/images\n",
    "!cp teethsegm/valid/images/* teethsegm/trainvalid/images\n",
    "!cp teethsegm/train/masks/* teethsegm/trainvalid/masks\n",
    "!cp teethsegm/valid/masks/* teethsegm/trainvalid/masks"
   ]
  },
  {
   "cell_type": "markdown",
   "metadata": {},
   "source": [
    "次に、モデルの構築を行います。先ほど可視化した検証性能の推移グラフを確認した結果、数エポックの訓練で十分に高い予測性能を達成できることがわかりました。そこで、ここでは訓練サブセットと検証サブセットを統合したデータを用いて、5 エポックのみ訓練を行います。"
   ]
  },
  {
   "cell_type": "code",
   "execution_count": null,
   "metadata": {
    "tags": [
     "hide-output"
    ]
   },
   "outputs": [],
   "source": [
    "# model\n",
    "model = maskrcnn(num_classes=1)\n",
    "model.to(device)\n",
    "\n",
    "# training parameters\n",
    "optimizer = torch.optim.SGD(model.parameters(), lr=1e-3, weight_decay=1e-4)\n",
    "lr_scheduler = torch.optim.lr_scheduler.StepLR(optimizer, step_size=3, gamma=0.1)\n",
    "\n",
    "# training data\n",
    "train_loader = torch.utils.data.DataLoader(\n",
    "                        TeethDataset('teethsegm/trainvalid'),\n",
    "                        batch_size=4, shuffle=True, collate_fn=lambda x: tuple(zip(*x)))\n",
    "\n",
    "# training\n",
    "num_epochs = 5\n",
    "metric_dict = []\n",
    "for epoch in range(num_epochs):\n",
    "    model.train()\n",
    "    epoch_loss_dict = {}\n",
    "    for images, targets in train_loader:\n",
    "        images = [img.to(device) for img in images]\n",
    "        targets = [{k: v.to(device) for k, v in t.items()} for t in targets]\n",
    "        \n",
    "        batch_loss_dict = model(images, targets)\n",
    "        batch_tol_loss = 0\n",
    "        for loss_type, loss_val in batch_loss_dict.items():\n",
    "            batch_tol_loss += loss_val\n",
    "            if loss_type in epoch_loss_dict:\n",
    "                epoch_loss_dict[f'train_{loss_type}'] += loss_val.item()\n",
    "            else:\n",
    "                epoch_loss_dict[f'train_{loss_type}'] = loss_val.item()\n",
    "        optimizer.zero_grad()\n",
    "        batch_tol_loss.backward()\n",
    "        optimizer.step()\n",
    "    lr_scheduler.step()\n",
    "\n",
    "    # record training loss\n",
    "    epoch_loss_dict['train_total_loss'] = sum(epoch_loss_dict.values())\n",
    "    metric_dict.append({k: v / len(train_loader) for k, v in epoch_loss_dict.items()})\n",
    "    metric_dict[-1]['epoch'] = epoch + 1\n",
    "    print(metric_dict[-1])\n",
    "\n"
   ]
  },
  {
   "cell_type": "markdown",
   "metadata": {},
   "source": [
    "訓練が完了したら、訓練済みモデルの重みをファイルに保存します。"
   ]
  },
  {
   "cell_type": "code",
   "execution_count": null,
   "metadata": {},
   "outputs": [],
   "source": [
    "model.to('cpu')\n",
    "torch.save(model.state_dict(), 'teethsegm.pth')"
   ]
  },
  {
   "cell_type": "markdown",
   "metadata": {},
   "source": [
    "## モデル評価"
   ]
  },
  {
   "cell_type": "markdown",
   "metadata": {},
   "source": [
    "最適なモデルが得られたら、次にテストデータを用いてモデルを詳細に評価します。"
   ]
  },
  {
   "cell_type": "code",
   "execution_count": null,
   "metadata": {},
   "outputs": [],
   "source": [
    "test_loader = torch.utils.data.DataLoader(\n",
    "                    TeethDataset('teethsegm/test'),\n",
    "                    batch_size=4, shuffle=True, collate_fn=lambda x: tuple(zip(*x)))\n",
    "\n",
    "model = maskrcnn(num_classes=1, weights='teethsegm.pth')\n",
    "model.to(device)\n",
    "model.eval()\n",
    "\n",
    "metric = torchmetrics.detection.mean_ap.MeanAveragePrecision()\n",
    "iou = 0\n",
    "n_targets = 0\n",
    "with torch.no_grad():\n",
    "    for images, targets in test_loader:\n",
    "        images = [img.to(device) for img in images]\n",
    "        targets = [{k: v.to(device) for k, v in t.items()} for t in targets]\n",
    "        pred_targets = model(images)\n",
    "        metric.update(pred_targets, targets)\n",
    "        for i in range(len(targets)):\n",
    "            pred_mask = pred_targets[i]['masks'].squeeze(1).any(dim=0)\n",
    "            true_mask = targets[i]['masks'].any(dim=0)\n",
    "            iou += torchmetrics.functional.jaccard_index(pred_mask.unsqueeze(0), true_mask.unsqueeze(0), num_classes=1, task='binary')\n",
    "            n_targets += 1\n",
    "\n",
    "\n",
    "metrics = [{k: v.cpu().detach().numpy().tolist()} for k, v in metric.compute().items()]\n",
    "metrics.append({'avg_iou': iou.item() / n_targets})\n",
    "metrics"
   ]
  },
  {
   "cell_type": "markdown",
   "metadata": {},
   "source": [
    "## 推論"
   ]
  },
  {
   "cell_type": "markdown",
   "metadata": {},
   "source": [
    "推論時にも、訓練時と同じように torchvision モジュールからアーキテクチャを呼び出し、出力層のクラス数を設定します。その後、`load_state_dict` メソッドを使って、訓練済みの重みファイルをモデルにロードします。これらの操作はすべて `maskrcnn` 関数で定義されているので、その関数を利用します。"
   ]
  },
  {
   "cell_type": "code",
   "execution_count": null,
   "metadata": {
    "tags": [
     "hide-output"
    ]
   },
   "outputs": [],
   "source": [
    "model = maskrcnn(num_classes=1, weights='teethsegm.pth')\n",
    "model.to(device)\n",
    "model.eval()"
   ]
  },
  {
   "cell_type": "markdown",
   "metadata": {},
   "source": [
    "このモデルを利用して推論を行います。まず、1 枚の画像を指定し、PIL モジュールを用いて画像を開き、テンソル形式に変換した後、モデルに入力します。モデルは予測結果としてバウンディングボックスの座標（`bboxes`）、マスク（`masks`）、分類ラベル（`labels`）、および信頼スコア（`scores`）を出力します。ただし、信頼スコアが 0.5 未満のバウンディングボックスは採用せず、信頼スコアが高い結果のみを選択して利用します。"
   ]
  },
  {
   "cell_type": "code",
   "execution_count": null,
   "metadata": {},
   "outputs": [],
   "source": [
    "threshold = 0.5\n",
    "image_path = 'teethsegm/test/images/13.jpg'\n",
    "\n",
    "image = PIL.Image.open(image_path).convert('RGB')\n",
    "input_tensor = torchvision.transforms.v2.functional.to_tensor(image).unsqueeze(0).to(device)\n",
    "    \n",
    "with torch.no_grad():\n",
    "    predictions = model(input_tensor)[0]\n",
    "    \n",
    "bboxes = predictions['boxes'][predictions['scores'] > threshold]\n",
    "masks = predictions['masks'][predictions['scores'] > threshold]\n",
    "labels = predictions['labels'][predictions['scores'] > threshold]\n",
    "scores = predictions['scores'][predictions['scores'] > threshold]"
   ]
  },
  {
   "cell_type": "markdown",
   "metadata": {},
   "source": [
    "検出されたオブジェクトのバウンディングボックスを入力画像に描画します。その後、PIL および matplotlib ライブラリを使用して、画像とその検出結果を可視化します。"
   ]
  },
  {
   "cell_type": "code",
   "execution_count": null,
   "metadata": {},
   "outputs": [],
   "source": [
    "image = PIL.Image.open(image_path).convert('RGBA')\n",
    "overlay = PIL.Image.new('RGBA', image.size, (255, 255, 255, 0))\n",
    "overlay_draw = PIL.ImageDraw.Draw(overlay)\n",
    "\n",
    "for bbox, mask, label, score in zip(bboxes, masks, labels, scores):\n",
    "    col = tuple([random.randint(0, 255) for _ in range(3)]) + (128,)\n",
    "\n",
    "    # bbox\n",
    "    x1, y1, x2, y2 = bbox\n",
    "    draw = PIL.ImageDraw.Draw(image)\n",
    "    draw.rectangle(((x1, y1), (x2, y2)), outline=col[:3], width=3)  # BBox is not transparent\n",
    "    draw.text((x1, y1 - 10), f'{label.item()} ({score:.2f})', fill=col[:3])\n",
    "\n",
    "    # mask\n",
    "    mask = mask.squeeze(0).cpu().numpy()\n",
    "    contours = skimage.measure.find_contours(mask, 0.5)\n",
    "    for contour in contours:\n",
    "        contour = np.flip(contour, axis=1).astype(int)\n",
    "        polygon = [tuple(point) for point in contour]\n",
    "        overlay_draw.polygon(polygon, fill=col)\n",
    "\n",
    "blended_image = PIL.Image.alpha_composite(image, overlay)\n",
    "\n",
    "fig = plt.figure()\n",
    "ax = fig.add_subplot()\n",
    "ax.imshow(blended_image)\n",
    "ax.axis('off')\n",
    "plt.show()\n"
   ]
  },
  {
   "cell_type": "code",
   "execution_count": null,
   "metadata": {
    "tags": [
     "remove-cell"
    ]
   },
   "outputs": [],
   "source": [
    "!rm -rf teethsegm/trainvalid/images\n",
    "!rm -rf teethsegm/trainvalid/masks"
   ]
  }
 ],
 "metadata": {
  "kernelspec": {
   "display_name": "Python 3 (ipykernel)",
   "language": "python",
   "name": "python3"
  },
  "language_info": {
   "codemirror_mode": {
    "name": "ipython",
    "version": 3
   },
   "file_extension": ".py",
   "mimetype": "text/x-python",
   "name": "python",
   "nbconvert_exporter": "python",
   "pygments_lexer": "ipython3",
   "version": "3.11.3"
  }
 },
 "nbformat": 4,
 "nbformat_minor": 4
}
