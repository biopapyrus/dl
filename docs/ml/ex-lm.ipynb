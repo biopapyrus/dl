{
 "cells": [
  {
   "cell_type": "code",
   "execution_count": null,
   "id": "41c8353d",
   "metadata": {
    "tags": [
     "remove-cell"
    ]
   },
   "outputs": [],
   "source": [
    "import os\n",
    "import sys\n",
    "if os.path.exists('../ebookconfig.py'):\n",
    "    sys.path.append(os.path.abspath('..'))\n",
    "    from ebookconfig import *"
   ]
  },
  {
   "cell_type": "markdown",
   "id": "71f983b6-cf95-496b-b1f0-904c20b41416",
   "metadata": {},
   "source": [
    "```{index} か 回帰分析\n",
    ":name: 回帰分析\n",
    "```\n",
    "\n",
    "# 演習：回帰分析"
   ]
  },
  {
   "cell_type": "markdown",
   "id": "807d40aa",
   "metadata": {},
   "source": [
    "## アルゴリズム"
   ]
  },
  {
   "cell_type": "markdown",
   "id": "0676d73f",
   "metadata": {},
   "source": [
    "```{index} か 回帰\n",
    "```\n",
    "\n",
    "```{index} と 特徴量\n",
    "```\n",
    "\n",
    "```{index} せ 説明変数\n",
    "```\n",
    "\n",
    "```{index} も 目的変数\n",
    "```\n",
    "\n",
    "```{index} お 応答変数\n",
    "```\n",
    "\n",
    "```{index} じ 重回帰分析\n",
    "```\n",
    "\n",
    "```{index} た 単回帰分析\n",
    "```\n",
    "\n",
    "\n",
    "**回帰**（**regression**）とは、ある変数（結果）が別の変数（原因）に影響されて変化する関係を探り、数式で表現する方法のことです。結果を表す変数のことを**目的変数**（**objective variable**）または**応答変数**（**response variable**）といい、原因を表す変数のことを**説明変数**（**explanatory variable**）または**特徴量**（**feature**）といいます。一般的に統計解析を行うときに説明変数を呼ぶ場合が多く、機械学習の分野では特徴量と呼ぶ場合が多いです。特徴量が 1 つだけのときの回帰を**単回帰**（**simple regression**）といいます。また、説明変数が複数あるとき、これを**重回帰**（**multiple regression**）といいます。\n",
    "\n",
    "単回帰では、例えば BMI を利用して糖尿病リスクを予測する場合、目的変数は糖尿病リスクであり、特徴量が BMI となります。一般的に、目的変数を $Y$、特徴量を $X$ と表し、両者に線形的な関係が見られる場合、その関係を次のように表現できます。\n",
    "​\n",
    "\n",
    "$$\n",
    "Y = \\beta_{1}X + \\beta_{0} + \\epsilon\n",
    "$$\n",
    "\n",
    "\n",
    "ここで $\\epsilon$ は、モデルと観測値の誤差を表します。統計解析では、$\\epsilon$ が正規分布に従うことを前提としますが、機械学習ではそのような分布の仮定は必要ありません。これは、機械学習が数学的または統計的理論に基づく厳密性よりも、実際のデータに基づく予測性能を優先するアプローチを取るためです。\n",
    "\n",
    "また、誤差 $\\epsilon$ を明記せず、次のように簡略化した形で表現することもあります。この記法では、観測値 $Y$ がモデル $\\beta_{1}X + \\beta_{0}$ に基づいて生成されることを示しています。\n",
    "\n",
    "\n",
    "$$\n",
    "Y \\sim  \\beta_{1}X + \\beta_{0}\n",
    "$$\n",
    "\n",
    "\n",
    "```{index} 回帰係数\n",
    "```\n",
    "\n",
    "```{index} パラメーター\n",
    "```\n",
    "\n",
    "上記の式に基づき、$\\beta_{1}$ と $\\beta_{0}$ の値がわかれば、BMI を使って糖尿病リスクに与える影響を評価したり、予測したりすることができます。これらの $\\beta_{1}$ および $\\beta_{0}$ は**パラメーター**（**parameter**）と呼ばれ、特に回帰分析では**回帰係数**（**regression coefficient**）とも呼ばれます。また、パラメータが推定されたことにより得られる式（例えば $Y = 1.5X + 60$）のことを**モデル**（**model**）と呼びます。\n",
    "\n",
    "実際の問題では、多くの場合、複数の要因が結果に影響を与えます。特に生命科学のデータには多くの特徴量が含まれるため、実務上はほとんどの回帰分析が重回帰に該当します。複数の特徴量を $X_{1}, X_{2}, \\dots, X_{n}$ とおくと、重回帰は次のような式で表現されます。\n",
    "\n",
    "$$\n",
    "Y \\sim  \\beta_{n}X_{n} + \\beta_{n-1}X_{n-1} + \\beta_{n-2}X_{n-2} + \\cdots + \\beta_{1}X_{1} + \\beta_{0}\n",
    "$$\n",
    "\n",
    "```{index} 正規化\n",
    "```\n",
    "\n",
    "```{index} 標準化\n",
    "```\n",
    "\n",
    "特徴量の数が多くなると、各特徴量の単位が異なります。観測されたデータをそのまま利用してパラメータを推定すると、値の大きい特徴量に重みがかかり最適なパラメータを推定できないことがあります。そのため、複数の特徴量があるとき、すべての特徴量を同じ範囲あるいは分布に揃える必要があります。よく利用されるのが、すべての特徴量を平均 0 および分散 1 の正規分布に変換する**標準化**（**standardization**）とあるいはすべての特徴量を最小値 0 かつ最大値 1 の範囲に収める**正規化**（**normalization**）があります。なお、回帰分析は正規分布を仮定しているため、標準化を行うのが一般的ですが、データの分布の特徴により正規化する場合もあります。\n"
   ]
  },
  {
   "cell_type": "markdown",
   "id": "66649c23",
   "metadata": {},
   "source": [
    "## 演習準備"
   ]
  },
  {
   "cell_type": "markdown",
   "id": "568a5943",
   "metadata": {},
   "source": [
    "本節では、scikit-learn ライブラリが提供している diabetes データセットを利用して、年齢、性別、BMI、血圧やさまざまな血液指標を利用して、1 年後の糖尿病の進行度合いを予測することを例に、回帰分析を説明していきます。\n",
    "\n",
    "まず、本節で利用する Python のライブラリをインポートします。numpy、pandas、matplotlib ライブラリはデータの読み込みや整形、可視化などに利用します。sklearn はサンプルデータセットの取得およびデータセットを訓練サブセットと検証サブセットに分けるために利用します。"
   ]
  },
  {
   "cell_type": "code",
   "execution_count": null,
   "id": "9c0b9558",
   "metadata": {},
   "outputs": [],
   "source": [
    "import numpy as np\n",
    "import pandas as pd\n",
    "import matplotlib.pyplot as plt\n",
    "import sklearn.datasets\n",
    "import sklearn.model_selection\n",
    "import sklearn.linear_model\n",
    "import sklearn.preprocessing\n",
    "import sklearn.decomposition\n",
    "import sklearn.pipeline\n",
    "import sklearn.metrics"
   ]
  },
  {
   "cell_type": "markdown",
   "id": "6da15de0",
   "metadata": {},
   "source": [
    "sklearn.datasets から diabetes データセットを読み込み、pandas で整形します。整形後のデータについて、1 列目は予測したい値である「1 年後の糖尿病の進行度合い」であり、2 列目以降は年齢、性別、BMI、血圧および 6 種類の血液指標になります。"
   ]
  },
  {
   "cell_type": "code",
   "execution_count": null,
   "id": "99e838b2",
   "metadata": {},
   "outputs": [],
   "source": [
    "data = sklearn.datasets.load_diabetes(scaled=False)\n",
    "Y = data.target\n",
    "X = data.data\n",
    "data = pd.concat([\n",
    "    pd.Series(Y, name='Y'),\n",
    "    pd.DataFrame(X, columns=data.feature_names),\n",
    "], axis='columns')\n",
    "data.head()"
   ]
  },
  {
   "cell_type": "markdown",
   "id": "2d1980b1",
   "metadata": {},
   "source": [
    "次にこれらのデータを 8:2 の割合で分割し、80% のデータを回帰モデルを構築するのに利用し、残りの 20% のデータをモデルの検証するために利用します。"
   ]
  },
  {
   "cell_type": "code",
   "execution_count": null,
   "id": "f38abb0e",
   "metadata": {},
   "outputs": [],
   "source": [
    "train_data, valid_data = sklearn.model_selection.train_test_split(data, test_size=0.2, random_state=0)"
   ]
  },
  {
   "cell_type": "markdown",
   "id": "2a271d66",
   "metadata": {},
   "source": [
    "## 演習（単回帰）"
   ]
  },
  {
   "cell_type": "markdown",
   "id": "ef1edb85",
   "metadata": {},
   "source": [
    "BMI を利用して 1 年後の糖尿病の進行度を予測する単回帰モデルを作ってみよう。分析にあたり、BMI（bmi）と 1 年後の糖尿病の進行度（Y）の関係を可視化します。"
   ]
  },
  {
   "cell_type": "code",
   "execution_count": null,
   "id": "4bba13a9",
   "metadata": {
    "tags": [
     "hide-input"
    ]
   },
   "outputs": [],
   "source": [
    "fig = plt.figure()\n",
    "ax = fig.add_subplot()\n",
    "ax.scatter(data['bmi'], data['Y'])\n",
    "ax.set_xlabel('BMI')\n",
    "ax.set_ylabel('Y')\n",
    "fig.show()"
   ]
  },
  {
   "cell_type": "markdown",
   "id": "7dab929c",
   "metadata": {},
   "source": [
    "可視化の結果、BMI が高いほど、1 年後の糖尿病の症状が重くなる傾向が見られました。両者の間に直線な関係を仮定して、回帰を行います。つまり、誤差はあるものの、BMI（$X$）と 1 年後の糖尿病の症状（$Y$）の間に\n",
    "\n",
    "\n",
    "$$\n",
    "Y = \\beta_{1}X + \\beta_{0}\n",
    "$$\n",
    "\n",
    "\n",
    "の関係が成り立ち、モデルのパラメーターである $\\beta_{0}$ および $\\beta_{1}$ を推定していきます。"
   ]
  },
  {
   "cell_type": "code",
   "execution_count": null,
   "id": "80be1b7f",
   "metadata": {
    "tags": [
     "remove-output"
    ]
   },
   "outputs": [],
   "source": [
    "model = sklearn.linear_model.LinearRegression()\n",
    "model.fit(train_data[['bmi']], train_data['Y'])"
   ]
  },
  {
   "cell_type": "markdown",
   "id": "d613afb3",
   "metadata": {},
   "source": [
    "訓練サブセットを利用して推定したモデルのパラメータを見てみましょう。"
   ]
  },
  {
   "cell_type": "code",
   "execution_count": null,
   "id": "773bd2ce",
   "metadata": {},
   "outputs": [],
   "source": [
    "print(f'beta_0 = {model.intercept_}; beta_1 = {model.coef_[0]}')"
   ]
  },
  {
   "cell_type": "markdown",
   "id": "2868c139",
   "metadata": {},
   "source": [
    "次に、訓練データとモデルを可視化して、モデルがデータに適合しているか確認します。"
   ]
  },
  {
   "cell_type": "code",
   "execution_count": null,
   "id": "4300dea7",
   "metadata": {
    "tags": [
     "hide-input"
    ]
   },
   "outputs": [],
   "source": [
    "fig = plt.figure()\n",
    "ax = fig.add_subplot()\n",
    "\n",
    "ax.scatter(train_data['bmi'], train_data['Y'])\n",
    "\n",
    "\n",
    "x1 = min(train_data['bmi'])\n",
    "x2 = max(train_data['bmi'])\n",
    "y1 = model.coef_[0] * x1 + model.intercept_\n",
    "y2 = model.coef_[0] * x2 + model.intercept_\n",
    "ax.plot([x1, x2], [y1, y2])\n",
    "ax.set_xlim(min(train_data['bmi']) - 1, max(train_data['bmi']) + 1)\n",
    "ax.set_ylim(min(train_data['Y']) - 10, max(train_data['Y']) + 10)\n",
    "ax.set_xlabel('BMI')\n",
    "ax.set_ylabel('Y')\n",
    "plt.show()"
   ]
  },
  {
   "cell_type": "markdown",
   "id": "aaf11156",
   "metadata": {},
   "source": [
    "モデル（回帰直線）が訓練データのほぼ真ん中を通り、妥当なものと判断できます。次に、目視による確認ではなく、数値で評価していきます。評価サブセットをこのモデルに代入し、その予測精度を計算します。なお、回帰分析のモデルを評価する指標は RMSE、MSE、MAE、決定係数（R<sup>2</sup>）、自由度調整済み決定係数などがありますが、RMSE が一般的に使われています。ここでも、RMSE を利用します。"
   ]
  },
  {
   "cell_type": "code",
   "execution_count": null,
   "id": "91b426c7",
   "metadata": {},
   "outputs": [],
   "source": [
    "y_pred = model.predict(valid_data[['bmi']])\n",
    "rmse = sklearn.metrics.root_mean_squared_error(valid_data['Y'], y_pred)\n",
    "print(rmse)"
   ]
  },
  {
   "cell_type": "code",
   "execution_count": null,
   "id": "f40949dc",
   "metadata": {
    "tags": [
     "remove-cell"
    ]
   },
   "outputs": [],
   "source": [
    "if 'glue' in vars():\n",
    "    glue('lm_rmse', round(float(rmse), 3), display=False)"
   ]
  },
  {
   "cell_type": "markdown",
   "id": "c84337ce",
   "metadata": {},
   "source": [
    "検証サブセットで計算した RMSE は {glue:}`lm_rmse` となりました。このモデルで予測した 1 年後の糖尿病の進行度は、多くの場合、予測値 &plusmn;{glue:}`lm_rmse` の範囲に収まると判断して構いません。このモデルは妥当かどうかは、比較対象がないため、この時点では評価できません。また、この糖尿病の進行指数が 65 上下しても治療法などに劇的な変化なければ、このモデルは受けられるでしょう。しかし、この糖尿病の進行指数が 10 でも変化したら、糖尿病の進行が非常に深刻になるという状況であれば、このモデルは医療現場で用いるべくではないでしょう。\n",
    "\n",
    "BMI だけで、検証性能である RMSE は {glue:}`lm_rmse` となりました。では、説明変数を増やしていていったら、予測性能はどのように変換するのかをみていきましょう。"
   ]
  },
  {
   "cell_type": "markdown",
   "id": "6b5ff7b5",
   "metadata": {},
   "source": [
    "## 演習（重回帰）"
   ]
  },
  {
   "cell_type": "markdown",
   "id": "de3cf897",
   "metadata": {},
   "source": [
    "diabetes データセットには、BMI だけでなく、年齢、などの要因も含まれています。そこで、BMI（$X_{1}$）と年齢（$X_{2}$）という二つの特徴量を利用して、モデルを構築してみよう。例えていうならば、BMI である程度糖尿病の進行度を予測できましたが、そこに年齢の要素を足します。BMI で予測した値に、年齢が高ければもう少しプラスアルファしてあげるなどのような操作を行います。\n",
    "\n",
    "\n",
    "$$\n",
    "Y =  \\beta_{2}X_{2} + \\beta_{1}X_{1} + \\beta_{0}\n",
    "$$\n",
    "\n",
    "なお、特徴量が複数存在するとき、単位の異なる特徴量も含まれます。BMI と年齢はあきらかに異なる単位であり、BMI は高くても 40、50 くらいであり、それに対して年齢は 70、80 前後のものもあります。これらを同等に扱うと、値の大きい年齢という特徴量に重みがかかり、最適なモデルを推定できなくおそれがあります。そこで、回帰をりようしてモデルを推定する前に、これらのデータのスケールを揃える必要があります。ここでは、すべての特徴量を平均 0、分散 1 となるようにスケーリングしてから回帰します。"
   ]
  },
  {
   "cell_type": "code",
   "execution_count": null,
   "id": "49dcbe32",
   "metadata": {
    "tags": [
     "remove-output"
    ]
   },
   "outputs": [],
   "source": [
    "model = sklearn.pipeline.Pipeline([\n",
    "    ('scaler', sklearn.preprocessing.StandardScaler()),\n",
    "    ('regressor', sklearn.linear_model.LinearRegression()),\n",
    "])\n",
    "model.fit(train_data[['age', 'bmi']], train_data['Y'])"
   ]
  },
  {
   "cell_type": "code",
   "execution_count": null,
   "id": "7d1404c7",
   "metadata": {},
   "outputs": [],
   "source": [
    "print(model.named_steps['regressor'].coef_)"
   ]
  },
  {
   "cell_type": "markdown",
   "id": "590ff6ed",
   "metadata": {},
   "source": [
    "モデルの係数を確認すると、BMI にかかる係数が年齢に比べて非常に大きいです。つまり、このモデルは主に BMI の値で糖尿病の進行度を予測し、年齢要素を考慮してプラスアルファしていると捉えることができます。次に、このモデルを評価サブセットで RMSE を計算します。"
   ]
  },
  {
   "cell_type": "code",
   "execution_count": null,
   "id": "9511fb14",
   "metadata": {},
   "outputs": [],
   "source": [
    "y_pred = model.predict(valid_data[['age', 'bmi']])\n",
    "rmse = sklearn.metrics.root_mean_squared_error(valid_data['Y'], y_pred)\n",
    "print(rmse)"
   ]
  },
  {
   "cell_type": "code",
   "execution_count": null,
   "id": "bc2c178c",
   "metadata": {
    "tags": [
     "remove-cell"
    ]
   },
   "outputs": [],
   "source": [
    "if 'glue' in vars():\n",
    "    glue('mlm_rmse_2', round(float(rmse), 3), display=False)"
   ]
  },
  {
   "cell_type": "markdown",
   "id": "75b0c644",
   "metadata": {},
   "source": [
    "特徴量を増やせば、予測誤差が減ることを確認できました。BMI だけを利用した時の RMSE（{glue:}`lm_rmse`）に比べ、わずかな改善が見られました。\n",
    "\n",
    "次に、BMI と年齢だけでなく、測定されたデータをすべて入れて、モデルを構築していきます。"
   ]
  },
  {
   "cell_type": "code",
   "execution_count": null,
   "id": "9798a9ee",
   "metadata": {
    "tags": [
     "remove-output"
    ]
   },
   "outputs": [],
   "source": [
    "model = sklearn.pipeline.Pipeline([\n",
    "    ('scaler', sklearn.preprocessing.StandardScaler()),\n",
    "    ('regressor', sklearn.linear_model.LinearRegression()),\n",
    "])\n",
    "model.fit(train_data.drop(columns=['Y']), train_data['Y'])"
   ]
  },
  {
   "cell_type": "markdown",
   "id": "335f1fb8",
   "metadata": {},
   "source": [
    "パラメータを推測する際に各特徴量を同じスケールに揃えたので、それぞれの特徴量にかかる係数（パラメーター）の値を見ることで、それぞれの特徴量がどのように糖尿病の進行に影響を与えているのかを解釈できます。たとえば、BMI や s5（possibly log of serum triglycerides level）の値が大きければ糖尿病の進行が速く、s1 （total serum cholesterol）の値が大きければ糖尿病の進行が遅いと解釈できそうです。"
   ]
  },
  {
   "cell_type": "code",
   "execution_count": null,
   "id": "6114dfd2",
   "metadata": {},
   "outputs": [],
   "source": [
    "fig = plt.figure()\n",
    "ax = fig.add_subplot()\n",
    "ax.bar(data.columns[1:], model.named_steps['regressor'].coef_)\n",
    "ax.set_xticklabels(ax.get_xticklabels(), rotation=90)\n",
    "fig.show()"
   ]
  },
  {
   "cell_type": "markdown",
   "id": "1301b4ae",
   "metadata": {},
   "source": [
    "検証サブセットを利用して RMSE を計算します。"
   ]
  },
  {
   "cell_type": "code",
   "execution_count": null,
   "id": "ba63d36e",
   "metadata": {},
   "outputs": [],
   "source": [
    "y_pred = model.predict(valid_data.drop(columns=['Y']))\n",
    "rmse = sklearn.metrics.root_mean_squared_error(valid_data['Y'], y_pred)\n",
    "print(rmse)"
   ]
  },
  {
   "cell_type": "code",
   "execution_count": null,
   "id": "a19da707",
   "metadata": {
    "tags": [
     "remove-cell"
    ]
   },
   "outputs": [],
   "source": [
    "if 'glue' in vars():\n",
    "    glue('mlm_rmse_full', round(float(rmse), 3), display=False)"
   ]
  },
  {
   "cell_type": "markdown",
   "id": "1032250f",
   "metadata": {},
   "source": [
    "特徴量を増やすことで予測誤差が減少することを確認できました。BMI のみを使用した場合の RMSE は {glue:}`lm_rmse` であり、10 個の特徴量をすべて使用した場合の RMSE は {glue:}`mlm_rmse_full` でした。しかし、特徴量を増やしたにもかかわらず、予測性能の劇的な改善は見られませんでした。このように、モデルの予測性能を改善する際には、目的なく特徴量を増やすのではなく、目的変数と強い関係を持つ特徴量を選択することが重要です。"
   ]
  }
 ],
 "metadata": {
  "kernelspec": {
   "display_name": "ebook",
   "language": "python",
   "name": "python3"
  },
  "language_info": {
   "codemirror_mode": {
    "name": "ipython",
    "version": 3
   },
   "file_extension": ".py",
   "mimetype": "text/x-python",
   "name": "python",
   "nbconvert_exporter": "python",
   "pygments_lexer": "ipython3",
   "version": "3.11.4"
  }
 },
 "nbformat": 4,
 "nbformat_minor": 5
}
